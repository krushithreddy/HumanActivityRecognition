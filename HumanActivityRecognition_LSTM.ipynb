{
 "cells": [
  {
   "cell_type": "code",
   "execution_count": 0,
   "metadata": {
    "colab": {},
    "colab_type": "code",
    "id": "3OPQsv6ICLnT"
   },
   "outputs": [],
   "source": [
    "# Importing Libraries"
   ]
  },
  {
   "cell_type": "code",
   "execution_count": 2,
   "metadata": {
    "colab": {
     "base_uri": "https://localhost:8080/",
     "height": 120
    },
    "colab_type": "code",
    "id": "es5SIaHdCQgK",
    "outputId": "3f32bb8d-5284-4306-f1e8-a0dad14ae55f"
   },
   "outputs": [
    {
     "name": "stdout",
     "output_type": "stream",
     "text": [
      "Go to this URL in a browser: https://accounts.google.com/o/oauth2/auth?client_id=947318989803-6bn6qk8qdgf4n4g3pfee6491hc0brc4i.apps.googleusercontent.com&redirect_uri=urn%3Aietf%3Awg%3Aoauth%3A2.0%3Aoob&scope=email%20https%3A%2F%2Fwww.googleapis.com%2Fauth%2Fdocs.test%20https%3A%2F%2Fwww.googleapis.com%2Fauth%2Fdrive%20https%3A%2F%2Fwww.googleapis.com%2Fauth%2Fdrive.photos.readonly%20https%3A%2F%2Fwww.googleapis.com%2Fauth%2Fpeopleapi.readonly&response_type=code\n",
      "\n",
      "Enter your authorization code:\n",
      "··········\n",
      "Mounted at /content/drive\n"
     ]
    }
   ],
   "source": [
    "from google.colab import drive\n",
    "drive.mount(\"/content/drive\")"
   ]
  },
  {
   "cell_type": "code",
   "execution_count": 3,
   "metadata": {
    "colab": {
     "base_uri": "https://localhost:8080/",
     "height": 33
    },
    "colab_type": "code",
    "id": "P7XYBk1lCuis",
    "outputId": "6c70bd96-071c-4e70-8c5a-107696591b14"
   },
   "outputs": [
    {
     "name": "stdout",
     "output_type": "stream",
     "text": [
      "drive  sample_data\n"
     ]
    }
   ],
   "source": [
    "!ls"
   ]
  },
  {
   "cell_type": "code",
   "execution_count": 4,
   "metadata": {
    "colab": {
     "base_uri": "https://localhost:8080/",
     "height": 33
    },
    "colab_type": "code",
    "id": "LNsELmlSCwqw",
    "outputId": "ee27acdb-a77e-412c-f1be-aae2396b5bdc"
   },
   "outputs": [
    {
     "name": "stdout",
     "output_type": "stream",
     "text": [
      "/content/drive\n"
     ]
    }
   ],
   "source": [
    "cd ./drive"
   ]
  },
  {
   "cell_type": "code",
   "execution_count": 5,
   "metadata": {
    "colab": {
     "base_uri": "https://localhost:8080/",
     "height": 33
    },
    "colab_type": "code",
    "id": "9Yqt2u3vC37y",
    "outputId": "998a3cea-951d-49f1-f52a-c371a9f261ce"
   },
   "outputs": [
    {
     "name": "stdout",
     "output_type": "stream",
     "text": [
      "/content/drive/My Drive\n"
     ]
    }
   ],
   "source": [
    "cd ./My Drive"
   ]
  },
  {
   "cell_type": "code",
   "execution_count": 7,
   "metadata": {
    "colab": {
     "base_uri": "https://localhost:8080/",
     "height": 33
    },
    "colab_type": "code",
    "id": "TjVknPWsC8wW",
    "outputId": "60ecf6a5-ce22-46cd-9c99-ae564a1cc6b8"
   },
   "outputs": [
    {
     "name": "stdout",
     "output_type": "stream",
     "text": [
      "/content/drive/My Drive/HumanActivityRecognition/HAR\n"
     ]
    }
   ],
   "source": [
    "cd ./HumanActivityRecognition/HAR "
   ]
  },
  {
   "cell_type": "code",
   "execution_count": 0,
   "metadata": {
    "colab": {},
    "colab_type": "code",
    "id": "k18Sv1TUCLnb"
   },
   "outputs": [],
   "source": [
    "import pandas as pd\n",
    "import numpy as np"
   ]
  },
  {
   "cell_type": "code",
   "execution_count": 0,
   "metadata": {
    "colab": {},
    "colab_type": "code",
    "id": "IsK6O1D_CLni"
   },
   "outputs": [],
   "source": [
    "# Activities are the class labels\n",
    "# It is a 6 class classification\n",
    "ACTIVITIES = {\n",
    "    0: 'WALKING',\n",
    "    1: 'WALKING_UPSTAIRS',\n",
    "    2: 'WALKING_DOWNSTAIRS',\n",
    "    3: 'SITTING',\n",
    "    4: 'STANDING',\n",
    "    5: 'LAYING',\n",
    "}\n",
    "\n",
    "# Utility function to print the confusion matrix\n",
    "def confusion_matrix(Y_true, Y_pred):\n",
    "    Y_true = pd.Series([ACTIVITIES[y] for y in np.argmax(Y_true, axis=1)])\n",
    "    Y_pred = pd.Series([ACTIVITIES[y] for y in np.argmax(Y_pred, axis=1)])\n",
    "\n",
    "    return pd.crosstab(Y_true, Y_pred, rownames=['True'], colnames=['Pred'])"
   ]
  },
  {
   "cell_type": "markdown",
   "metadata": {
    "colab_type": "text",
    "id": "rqhsC0OxCLnn"
   },
   "source": [
    "### Data"
   ]
  },
  {
   "cell_type": "code",
   "execution_count": 0,
   "metadata": {
    "colab": {},
    "colab_type": "code",
    "id": "lkuj5s7rCLnp"
   },
   "outputs": [],
   "source": [
    "# Data directory\n",
    "DATADIR = './UCI_HAR_Dataset'"
   ]
  },
  {
   "cell_type": "code",
   "execution_count": 0,
   "metadata": {
    "colab": {},
    "colab_type": "code",
    "id": "PDClvjylCLn2"
   },
   "outputs": [],
   "source": [
    "# Raw data signals\n",
    "# Signals are from Accelerometer and Gyroscope\n",
    "# The signals are in x,y,z directions\n",
    "# Sensor signals are filtered to have only body acceleration\n",
    "# excluding the acceleration due to gravity\n",
    "# Triaxial acceleration from the accelerometer is total acceleration\n",
    "SIGNALS = [\n",
    "    \"body_acc_x\",\n",
    "    \"body_acc_y\",\n",
    "    \"body_acc_z\",\n",
    "    \"body_gyro_x\",\n",
    "    \"body_gyro_y\",\n",
    "    \"body_gyro_z\",\n",
    "    \"total_acc_x\",\n",
    "    \"total_acc_y\",\n",
    "    \"total_acc_z\"\n",
    "]"
   ]
  },
  {
   "cell_type": "code",
   "execution_count": 0,
   "metadata": {
    "colab": {},
    "colab_type": "code",
    "id": "eZDRbs6zCLoA"
   },
   "outputs": [],
   "source": [
    "# Utility function to read the data from csv file\n",
    "def _read_csv(filename):\n",
    "    return pd.read_csv(filename, delim_whitespace=True, header=None)\n",
    "\n",
    "# Utility function to load the load\n",
    "def load_signals(subset):\n",
    "    signals_data = []\n",
    "\n",
    "    for signal in SIGNALS:\n",
    "        filename = ('UCI_HAR_Dataset/{0}/Inertial Signals/{1}_{2}.txt'.format(subset,signal,subset))\n",
    "        signals_data.append(\n",
    "            _read_csv(filename).as_matrix()\n",
    "        ) \n",
    "\n",
    "    # Transpose is used to change the dimensionality of the output,\n",
    "    # aggregating the signals by combination of sample/timestep.\n",
    "    # Resultant shape is (7352 train/2947 test samples, 128 timesteps, 9 signals)\n",
    "    return np.transpose(signals_data, (1, 2, 0))"
   ]
  },
  {
   "cell_type": "code",
   "execution_count": 0,
   "metadata": {
    "colab": {},
    "colab_type": "code",
    "id": "UtSZHevwCLoG"
   },
   "outputs": [],
   "source": [
    "\n",
    "def load_y(subset):\n",
    "    \"\"\"\n",
    "    The objective that we are trying to predict is a integer, from 1 to 6,\n",
    "    that represents a human activity. We return a binary representation of \n",
    "    every sample objective as a 6 bits vector using One Hot Encoding\n",
    "    (https://pandas.pydata.org/pandas-docs/stable/generated/pandas.get_dummies.html)\n",
    "    \"\"\"\n",
    "    filename = \"./UCI_HAR_Dataset/{0}/y_{1}.txt\".format(subset,subset)\n",
    "    y = _read_csv(filename)[0]\n",
    "\n",
    "    return pd.get_dummies(y).as_matrix()"
   ]
  },
  {
   "cell_type": "code",
   "execution_count": 0,
   "metadata": {
    "colab": {},
    "colab_type": "code",
    "id": "pB4WVyBsCLoN"
   },
   "outputs": [],
   "source": [
    "def load_data():\n",
    "    \"\"\"\n",
    "    Obtain the dataset from multiple files.\n",
    "    Returns: X_train, X_test, y_train, y_test\n",
    "    \"\"\"\n",
    "    X_train, X_test = load_signals('train'), load_signals('test')\n",
    "    y_train, y_test = load_y('train'), load_y('test')\n",
    "\n",
    "    return X_train, X_test, y_train, y_test"
   ]
  },
  {
   "cell_type": "code",
   "execution_count": 0,
   "metadata": {
    "colab": {},
    "colab_type": "code",
    "id": "9RTE9TQKCLok"
   },
   "outputs": [],
   "source": [
    "# Importing tensorflow\n",
    "np.random.seed(42)\n",
    "import tensorflow as tf\n",
    "tf.set_random_seed(42)"
   ]
  },
  {
   "cell_type": "code",
   "execution_count": 0,
   "metadata": {
    "colab": {},
    "colab_type": "code",
    "id": "TOLSklG_CLou"
   },
   "outputs": [],
   "source": [
    "# Configuring a session\n",
    "session_conf = tf.ConfigProto(\n",
    "    intra_op_parallelism_threads=1,\n",
    "    inter_op_parallelism_threads=1\n",
    ")"
   ]
  },
  {
   "cell_type": "code",
   "execution_count": 19,
   "metadata": {
    "colab": {
     "base_uri": "https://localhost:8080/",
     "height": 33
    },
    "colab_type": "code",
    "id": "RZ3hTaH4CLo3",
    "outputId": "446ba108-ba03-48fa-80c4-09b14f03bc5f"
   },
   "outputs": [
    {
     "name": "stderr",
     "output_type": "stream",
     "text": [
      "Using TensorFlow backend.\n"
     ]
    }
   ],
   "source": [
    "# Import Keras\n",
    "from keras import backend as K\n",
    "sess = tf.Session(graph=tf.get_default_graph(), config=session_conf)\n",
    "K.set_session(sess)"
   ]
  },
  {
   "cell_type": "code",
   "execution_count": 0,
   "metadata": {
    "colab": {},
    "colab_type": "code",
    "id": "iHyFKrWRCLo7"
   },
   "outputs": [],
   "source": [
    "# Importing libraries\n",
    "from keras.models import Sequential\n",
    "from keras.layers import LSTM\n",
    "from keras.layers.core import Dense, Dropout"
   ]
  },
  {
   "cell_type": "code",
   "execution_count": 0,
   "metadata": {
    "colab": {},
    "colab_type": "code",
    "id": "lmz0F1_WCLpD"
   },
   "outputs": [],
   "source": [
    "# Initializing parameters\n",
    "epochs = 30\n",
    "batch_size = 20\n",
    "n_hidden = 30"
   ]
  },
  {
   "cell_type": "code",
   "execution_count": 0,
   "metadata": {
    "colab": {},
    "colab_type": "code",
    "id": "0QcXlVo8CLpJ"
   },
   "outputs": [],
   "source": [
    "# Utility function to count the number of classes\n",
    "def _count_classes(y):\n",
    "    return len(set([tuple(category) for category in y]))"
   ]
  },
  {
   "cell_type": "code",
   "execution_count": 0,
   "metadata": {
    "colab": {},
    "colab_type": "code",
    "id": "Pk147o6NCLpQ"
   },
   "outputs": [],
   "source": [
    "# Loading the train and test data\n",
    "X_train, X_test, Y_train, Y_test = load_data()"
   ]
  },
  {
   "cell_type": "code",
   "execution_count": 24,
   "metadata": {
    "colab": {
     "base_uri": "https://localhost:8080/",
     "height": 66
    },
    "colab_type": "code",
    "id": "fDP-0SN6CLpZ",
    "outputId": "9a713840-2e2a-48b9-b5b9-c16bf06516b9"
   },
   "outputs": [
    {
     "name": "stdout",
     "output_type": "stream",
     "text": [
      "128\n",
      "9\n",
      "7352\n"
     ]
    }
   ],
   "source": [
    "timesteps = len(X_train[0])\n",
    "input_dim = len(X_train[0][0])\n",
    "n_classes = _count_classes(Y_train)\n",
    "\n",
    "print(timesteps)\n",
    "print(input_dim)\n",
    "print(len(X_train))"
   ]
  },
  {
   "cell_type": "markdown",
   "metadata": {
    "colab_type": "text",
    "id": "nDV0XRwiCLph"
   },
   "source": [
    "- Defining the Architecture of LSTM"
   ]
  },
  {
   "cell_type": "code",
   "execution_count": 0,
   "metadata": {
    "colab": {},
    "colab_type": "code",
    "id": "gWZ9AoGsD6yz"
   },
   "outputs": [],
   "source": [
    "epochs = 30\n",
    "batch_size = 50\n",
    "n_hidden = 35"
   ]
  },
  {
   "cell_type": "code",
   "execution_count": 30,
   "metadata": {
    "colab": {
     "base_uri": "https://localhost:8080/",
     "height": 300
    },
    "colab_type": "code",
    "id": "xbOQh_qID_B4",
    "outputId": "d1b5e9b2-c71e-4f6b-942e-0f7c053165b5"
   },
   "outputs": [
    {
     "name": "stdout",
     "output_type": "stream",
     "text": [
      "_________________________________________________________________\n",
      "Layer (type)                 Output Shape              Param #   \n",
      "=================================================================\n",
      "lstm_5 (LSTM)                (None, 128, 35)           6300      \n",
      "_________________________________________________________________\n",
      "dropout_5 (Dropout)          (None, 128, 35)           0         \n",
      "_________________________________________________________________\n",
      "lstm_6 (LSTM)                (None, 35)                9940      \n",
      "_________________________________________________________________\n",
      "dropout_6 (Dropout)          (None, 35)                0         \n",
      "_________________________________________________________________\n",
      "dense_3 (Dense)              (None, 6)                 216       \n",
      "=================================================================\n",
      "Total params: 16,456\n",
      "Trainable params: 16,456\n",
      "Non-trainable params: 0\n",
      "_________________________________________________________________\n"
     ]
    }
   ],
   "source": [
    "model = Sequential()\n",
    "# Configuring the parameters\n",
    "model.add(LSTM(n_hidden,return_sequences=True, input_shape=(timesteps, input_dim)))\n",
    "# Adding a dropout layer\n",
    "model.add(Dropout(0.9))\n",
    "#model.add(Dense(n_classes, activation='sigmoid'))\n",
    "model.add(LSTM(n_hidden))\n",
    "\n",
    "model.add(Dropout(0.9))\n",
    "# Adding a dense output layer with sigmoid activation\n",
    "model.add(Dense(n_classes, activation='sigmoid'))\n",
    "model.summary()"
   ]
  },
  {
   "cell_type": "code",
   "execution_count": 0,
   "metadata": {
    "colab": {},
    "colab_type": "code",
    "id": "Y3MVFWCoENjw"
   },
   "outputs": [],
   "source": [
    "model.compile(loss='categorical_crossentropy',\n",
    "              optimizer='rmsprop',\n",
    "              metrics=['accuracy'])"
   ]
  },
  {
   "cell_type": "code",
   "execution_count": 33,
   "metadata": {
    "colab": {
     "base_uri": "https://localhost:8080/",
     "height": 1033
    },
    "colab_type": "code",
    "id": "xCkm8ggYEe8o",
    "outputId": "133a53c7-aa3e-4f0c-b376-5af44abb1409"
   },
   "outputs": [
    {
     "name": "stdout",
     "output_type": "stream",
     "text": [
      "Train on 7352 samples, validate on 2947 samples\n",
      "Epoch 1/30\n",
      "7352/7352 [==============================] - 68s 9ms/step - loss: 1.2886 - acc: 0.4611 - val_loss: 1.0531 - val_acc: 0.6101\n",
      "Epoch 2/30\n",
      "7352/7352 [==============================] - 67s 9ms/step - loss: 1.1826 - acc: 0.4974 - val_loss: 0.9975 - val_acc: 0.5507\n",
      "Epoch 3/30\n",
      "7352/7352 [==============================] - 67s 9ms/step - loss: 1.0974 - acc: 0.5010 - val_loss: 0.8613 - val_acc: 0.6244\n",
      "Epoch 4/30\n",
      "7352/7352 [==============================] - 68s 9ms/step - loss: 1.0554 - acc: 0.5131 - val_loss: 0.8336 - val_acc: 0.6301\n",
      "Epoch 5/30\n",
      "7352/7352 [==============================] - 68s 9ms/step - loss: 1.0165 - acc: 0.5135 - val_loss: 0.8456 - val_acc: 0.5921\n",
      "Epoch 6/30\n",
      "7352/7352 [==============================] - 69s 9ms/step - loss: 0.9994 - acc: 0.5126 - val_loss: 0.7886 - val_acc: 0.5843\n",
      "Epoch 7/30\n",
      "7352/7352 [==============================] - 69s 9ms/step - loss: 0.9822 - acc: 0.5231 - val_loss: 0.8081 - val_acc: 0.6077\n",
      "Epoch 8/30\n",
      "7352/7352 [==============================] - 69s 9ms/step - loss: 0.9683 - acc: 0.5175 - val_loss: 0.7811 - val_acc: 0.5979\n",
      "Epoch 9/30\n",
      "7352/7352 [==============================] - 69s 9ms/step - loss: 0.9647 - acc: 0.5328 - val_loss: 0.7966 - val_acc: 0.6203\n",
      "Epoch 10/30\n",
      "7352/7352 [==============================] - 68s 9ms/step - loss: 0.9559 - acc: 0.5263 - val_loss: 0.7744 - val_acc: 0.5640\n",
      "Epoch 11/30\n",
      "7352/7352 [==============================] - 68s 9ms/step - loss: 0.9417 - acc: 0.5287 - val_loss: 0.7708 - val_acc: 0.6016\n",
      "Epoch 12/30\n",
      "7352/7352 [==============================] - 68s 9ms/step - loss: 0.9298 - acc: 0.5297 - val_loss: 0.7810 - val_acc: 0.5755\n",
      "Epoch 13/30\n",
      "7352/7352 [==============================] - 68s 9ms/step - loss: 0.9208 - acc: 0.5403 - val_loss: 0.7923 - val_acc: 0.6016\n",
      "Epoch 14/30\n",
      "7352/7352 [==============================] - 68s 9ms/step - loss: 0.9193 - acc: 0.5420 - val_loss: 0.7731 - val_acc: 0.6271\n",
      "Epoch 15/30\n",
      "7352/7352 [==============================] - 68s 9ms/step - loss: 0.9111 - acc: 0.5276 - val_loss: 0.7670 - val_acc: 0.6064\n",
      "Epoch 16/30\n",
      "7352/7352 [==============================] - 69s 9ms/step - loss: 0.9080 - acc: 0.5340 - val_loss: 0.7721 - val_acc: 0.6227\n",
      "Epoch 17/30\n",
      "7352/7352 [==============================] - 68s 9ms/step - loss: 0.8981 - acc: 0.5423 - val_loss: 0.7684 - val_acc: 0.6322\n",
      "Epoch 18/30\n",
      "7352/7352 [==============================] - 68s 9ms/step - loss: 0.9020 - acc: 0.5354 - val_loss: 0.8084 - val_acc: 0.6111\n",
      "Epoch 19/30\n",
      "7352/7352 [==============================] - 68s 9ms/step - loss: 0.9017 - acc: 0.5443 - val_loss: 0.7850 - val_acc: 0.6230\n",
      "Epoch 20/30\n",
      "7352/7352 [==============================] - 68s 9ms/step - loss: 0.9001 - acc: 0.5392 - val_loss: 0.7700 - val_acc: 0.5965\n",
      "Epoch 21/30\n",
      "7352/7352 [==============================] - 68s 9ms/step - loss: 0.9035 - acc: 0.5341 - val_loss: 0.7711 - val_acc: 0.6071\n",
      "Epoch 22/30\n",
      "7352/7352 [==============================] - 68s 9ms/step - loss: 0.8837 - acc: 0.5367 - val_loss: 0.7670 - val_acc: 0.5976\n",
      "Epoch 23/30\n",
      "7352/7352 [==============================] - 68s 9ms/step - loss: 0.8883 - acc: 0.5438 - val_loss: 0.7630 - val_acc: 0.5982\n",
      "Epoch 24/30\n",
      "7352/7352 [==============================] - 69s 9ms/step - loss: 0.8961 - acc: 0.5412 - val_loss: 0.7647 - val_acc: 0.6121\n",
      "Epoch 25/30\n",
      "7352/7352 [==============================] - 68s 9ms/step - loss: 0.8870 - acc: 0.5435 - val_loss: 0.7896 - val_acc: 0.6081\n",
      "Epoch 26/30\n",
      "7352/7352 [==============================] - 67s 9ms/step - loss: 0.8827 - acc: 0.5486 - val_loss: 0.7656 - val_acc: 0.5918\n",
      "Epoch 27/30\n",
      "7352/7352 [==============================] - 68s 9ms/step - loss: 0.8884 - acc: 0.5499 - val_loss: 0.7732 - val_acc: 0.6193\n",
      "Epoch 28/30\n",
      "7352/7352 [==============================] - 68s 9ms/step - loss: 0.8903 - acc: 0.5453 - val_loss: 0.7644 - val_acc: 0.6149\n",
      "Epoch 29/30\n",
      "7352/7352 [==============================] - 68s 9ms/step - loss: 0.8672 - acc: 0.5530 - val_loss: 0.7738 - val_acc: 0.6020\n",
      "Epoch 30/30\n",
      "7352/7352 [==============================] - 68s 9ms/step - loss: 0.8737 - acc: 0.5426 - val_loss: 0.9085 - val_acc: 0.5660\n"
     ]
    }
   ],
   "source": [
    "scores = model.fit(X_train,\n",
    "          Y_train,\n",
    "          batch_size=batch_size,\n",
    "          validation_data=(X_test, Y_test),\n",
    "          epochs=epochs)"
   ]
  },
  {
   "cell_type": "code",
   "execution_count": 0,
   "metadata": {
    "colab": {},
    "colab_type": "code",
    "id": "SpC6e8nGMmIi"
   },
   "outputs": [],
   "source": [
    "import matplotlib.pyplot as plt\n",
    "def plt_dynamic(x, vy, ty, ax, colors=['b']):\n",
    "    ax.plot(x,vy,'b',label=\"Validation Loss\")\n",
    "    ax.plot(x,ty,'r',label=\"Train Loss\")\n",
    "    plt.legend()\n",
    "    plt.grid()\n",
    "    fig.canvas.draw()"
   ]
  },
  {
   "cell_type": "code",
   "execution_count": 36,
   "metadata": {
    "colab": {
     "base_uri": "https://localhost:8080/",
     "height": 315
    },
    "colab_type": "code",
    "id": "01YgRT5CMqmw",
    "outputId": "3d7c7a13-62e5-4031-efd4-44e264954df8"
   },
   "outputs": [
    {
     "name": "stdout",
     "output_type": "stream",
     "text": [
      "Test score: 0.9084643532471774\n",
      "Test accuracy: 0.5659993213437394\n"
     ]
    },
    {
     "data": {
      "image/png": "[encoded data removed]",
      "text/plain": [
       "<Figure size 432x288 with 1 Axes>"
      ]
     },
     "metadata": {
      "tags": []
     },
     "output_type": "display_data"
    }
   ],
   "source": [
    "score = model.evaluate(X_test, Y_test, verbose=0)\n",
    "print('Test score:', score[0])\n",
    "print('Test accuracy:', score[1])\n",
    "x = list(range(1,31))\n",
    "fig,ax = plt.subplots(1,1)\n",
    "ax.set_xlabel('epoch') ; ax.set_ylabel('catagorical_crossentropy Loss')\n",
    "vy = scores.history['val_loss']\n",
    "ty = scores.history['loss']\n",
    "plt_dynamic(x, vy, ty, ax)"
   ]
  },
  {
   "cell_type": "markdown",
   "metadata": {},
   "source": [
    "- By observing above plot we can say that this model is overfitting."
   ]
  },
  {
   "cell_type": "code",
   "execution_count": 0,
   "metadata": {
    "colab": {},
    "colab_type": "code",
    "id": "DyGJX9dMNF87"
   },
   "outputs": [],
   "source": [
    "epochs = 60\n",
    "batch_size = 100\n",
    "n_hidden = 30"
   ]
  },
  {
   "cell_type": "code",
   "execution_count": 44,
   "metadata": {
    "colab": {
     "base_uri": "https://localhost:8080/",
     "height": 266
    },
    "colab_type": "code",
    "id": "9izVe1zSNKGZ",
    "outputId": "981222a9-1e56-4d39-8770-e2680d3883ba"
   },
   "outputs": [
    {
     "name": "stdout",
     "output_type": "stream",
     "text": [
      "_________________________________________________________________\n",
      "Layer (type)                 Output Shape              Param #   \n",
      "=================================================================\n",
      "lstm_11 (LSTM)               (None, 128, 30)           4800      \n",
      "_________________________________________________________________\n",
      "lstm_12 (LSTM)               (None, 30)                7320      \n",
      "_________________________________________________________________\n",
      "dropout_9 (Dropout)          (None, 30)                0         \n",
      "_________________________________________________________________\n",
      "dense_6 (Dense)              (None, 6)                 186       \n",
      "=================================================================\n",
      "Total params: 12,306\n",
      "Trainable params: 12,306\n",
      "Non-trainable params: 0\n",
      "_________________________________________________________________\n"
     ]
    }
   ],
   "source": [
    "model = Sequential()\n",
    "# Configuring the parameters\n",
    "model.add(LSTM(n_hidden,return_sequences=True, input_shape=(timesteps, input_dim)))\n",
    "# Adding a dropout layer\n",
    "#model.add(Dropout(0.9))\n",
    "#model.add(Dense(n_classes, activation='sigmoid'))\n",
    "model.add(LSTM(n_hidden))\n",
    "\n",
    "model.add(Dropout(0.9))\n",
    "# Adding a dense output layer with sigmoid activation\n",
    "model.add(Dense(n_classes, activation='sigmoid'))\n",
    "model.summary()"
   ]
  },
  {
   "cell_type": "code",
   "execution_count": 0,
   "metadata": {
    "colab": {},
    "colab_type": "code",
    "id": "NxUrjPpGNgFI"
   },
   "outputs": [],
   "source": [
    "model.compile(loss='categorical_crossentropy',\n",
    "              optimizer='rmsprop',\n",
    "              metrics=['accuracy'])"
   ]
  },
  {
   "cell_type": "code",
   "execution_count": 46,
   "metadata": {
    "colab": {
     "base_uri": "https://localhost:8080/",
     "height": 2033
    },
    "colab_type": "code",
    "id": "WYTY8w-7NkrK",
    "outputId": "479c2324-36b1-4688-c1d9-38e1dc04c129"
   },
   "outputs": [
    {
     "name": "stdout",
     "output_type": "stream",
     "text": [
      "Train on 7352 samples, validate on 2947 samples\n",
      "Epoch 1/60\n",
      "7352/7352 [==============================] - 36s 5ms/step - loss: 1.6467 - acc: 0.2976 - val_loss: 1.4177 - val_acc: 0.4706\n",
      "Epoch 2/60\n",
      "7352/7352 [==============================] - 34s 5ms/step - loss: 1.4883 - acc: 0.3783 - val_loss: 1.3158 - val_acc: 0.4520\n",
      "Epoch 3/60\n",
      "7352/7352 [==============================] - 34s 5ms/step - loss: 1.4018 - acc: 0.4242 - val_loss: 1.2281 - val_acc: 0.5127\n",
      "Epoch 4/60\n",
      "7352/7352 [==============================] - 34s 5ms/step - loss: 1.3329 - acc: 0.4433 - val_loss: 1.1463 - val_acc: 0.5473\n",
      "Epoch 5/60\n",
      "7352/7352 [==============================] - 34s 5ms/step - loss: 1.2556 - acc: 0.4703 - val_loss: 1.0372 - val_acc: 0.6668\n",
      "Epoch 6/60\n",
      "7352/7352 [==============================] - 34s 5ms/step - loss: 1.2069 - acc: 0.4845 - val_loss: 0.9930 - val_acc: 0.6919\n",
      "Epoch 7/60\n",
      "7352/7352 [==============================] - 34s 5ms/step - loss: 1.1640 - acc: 0.4963 - val_loss: 0.9236 - val_acc: 0.5772\n",
      "Epoch 8/60\n",
      "7352/7352 [==============================] - 35s 5ms/step - loss: 1.1200 - acc: 0.5004 - val_loss: 0.8669 - val_acc: 0.6593\n",
      "Epoch 9/60\n",
      "7352/7352 [==============================] - 34s 5ms/step - loss: 1.1127 - acc: 0.4999 - val_loss: 0.8619 - val_acc: 0.6033\n",
      "Epoch 10/60\n",
      "7352/7352 [==============================] - 34s 5ms/step - loss: 1.0762 - acc: 0.5061 - val_loss: 0.8408 - val_acc: 0.6298\n",
      "Epoch 11/60\n",
      "7352/7352 [==============================] - 34s 5ms/step - loss: 1.0718 - acc: 0.4891 - val_loss: 0.8400 - val_acc: 0.6074\n",
      "Epoch 12/60\n",
      "7352/7352 [==============================] - 34s 5ms/step - loss: 1.0419 - acc: 0.5044 - val_loss: 0.8259 - val_acc: 0.6328\n",
      "Epoch 13/60\n",
      "7352/7352 [==============================] - 34s 5ms/step - loss: 1.0184 - acc: 0.5010 - val_loss: 0.8170 - val_acc: 0.6166\n",
      "Epoch 14/60\n",
      "7352/7352 [==============================] - 34s 5ms/step - loss: 1.0299 - acc: 0.5076 - val_loss: 0.8167 - val_acc: 0.5355\n",
      "Epoch 15/60\n",
      "7352/7352 [==============================] - 34s 5ms/step - loss: 1.0112 - acc: 0.4973 - val_loss: 1.0377 - val_acc: 0.6040\n",
      "Epoch 16/60\n",
      "7352/7352 [==============================] - 34s 5ms/step - loss: 1.0134 - acc: 0.4961 - val_loss: 0.8236 - val_acc: 0.6108\n",
      "Epoch 17/60\n",
      "7352/7352 [==============================] - 34s 5ms/step - loss: 1.0386 - acc: 0.4962 - val_loss: 0.8245 - val_acc: 0.5803\n",
      "Epoch 18/60\n",
      "7352/7352 [==============================] - 34s 5ms/step - loss: 0.9819 - acc: 0.4965 - val_loss: 0.8088 - val_acc: 0.6142\n",
      "Epoch 19/60\n",
      "7352/7352 [==============================] - 34s 5ms/step - loss: 0.9676 - acc: 0.5020 - val_loss: 0.8056 - val_acc: 0.6155\n",
      "Epoch 20/60\n",
      "7352/7352 [==============================] - 34s 5ms/step - loss: 0.9797 - acc: 0.5014 - val_loss: 0.8055 - val_acc: 0.5969\n",
      "Epoch 21/60\n",
      "7352/7352 [==============================] - 34s 5ms/step - loss: 0.9779 - acc: 0.4993 - val_loss: 0.8081 - val_acc: 0.5477\n",
      "Epoch 22/60\n",
      "7352/7352 [==============================] - 34s 5ms/step - loss: 0.9856 - acc: 0.4992 - val_loss: 0.8277 - val_acc: 0.5209\n",
      "Epoch 23/60\n",
      "7352/7352 [==============================] - 34s 5ms/step - loss: 0.9777 - acc: 0.5023 - val_loss: 0.8253 - val_acc: 0.5134\n",
      "Epoch 24/60\n",
      "7352/7352 [==============================] - 34s 5ms/step - loss: 0.9549 - acc: 0.5037 - val_loss: 0.8213 - val_acc: 0.5501\n",
      "Epoch 25/60\n",
      "7352/7352 [==============================] - 34s 5ms/step - loss: 0.9563 - acc: 0.5057 - val_loss: 0.8426 - val_acc: 0.5843\n",
      "Epoch 26/60\n",
      "7352/7352 [==============================] - 34s 5ms/step - loss: 0.9977 - acc: 0.5024 - val_loss: 0.9597 - val_acc: 0.5867\n",
      "Epoch 27/60\n",
      "7352/7352 [==============================] - 34s 5ms/step - loss: 1.0095 - acc: 0.4920 - val_loss: 0.8512 - val_acc: 0.5860\n",
      "Epoch 28/60\n",
      "7352/7352 [==============================] - 34s 5ms/step - loss: 0.9704 - acc: 0.5005 - val_loss: 0.8317 - val_acc: 0.5300\n",
      "Epoch 29/60\n",
      "7352/7352 [==============================] - 34s 5ms/step - loss: 0.9524 - acc: 0.5086 - val_loss: 0.8415 - val_acc: 0.4958\n",
      "Epoch 30/60\n",
      "7352/7352 [==============================] - 34s 5ms/step - loss: 0.9369 - acc: 0.5042 - val_loss: 0.8294 - val_acc: 0.4968\n",
      "Epoch 31/60\n",
      "7352/7352 [==============================] - 34s 5ms/step - loss: 0.9417 - acc: 0.5001 - val_loss: 0.8357 - val_acc: 0.4958\n",
      "Epoch 32/60\n",
      "7352/7352 [==============================] - 34s 5ms/step - loss: 0.9406 - acc: 0.5007 - val_loss: 0.8618 - val_acc: 0.4876\n",
      "Epoch 33/60\n",
      "7352/7352 [==============================] - 34s 5ms/step - loss: 0.9609 - acc: 0.5004 - val_loss: 0.8144 - val_acc: 0.4988\n",
      "Epoch 34/60\n",
      "7352/7352 [==============================] - 34s 5ms/step - loss: 0.9396 - acc: 0.4891 - val_loss: 0.8239 - val_acc: 0.4988\n",
      "Epoch 35/60\n",
      "7352/7352 [==============================] - 34s 5ms/step - loss: 0.9160 - acc: 0.5063 - val_loss: 0.7996 - val_acc: 0.5005\n",
      "Epoch 36/60\n",
      "7352/7352 [==============================] - 34s 5ms/step - loss: 0.9269 - acc: 0.5008 - val_loss: 0.8088 - val_acc: 0.4985\n",
      "Epoch 37/60\n",
      "7352/7352 [==============================] - 34s 5ms/step - loss: 0.9325 - acc: 0.5035 - val_loss: 0.8166 - val_acc: 0.4981\n",
      "Epoch 38/60\n",
      "7352/7352 [==============================] - 34s 5ms/step - loss: 0.9303 - acc: 0.4936 - val_loss: 0.8176 - val_acc: 0.4975\n",
      "Epoch 39/60\n",
      "7352/7352 [==============================] - 34s 5ms/step - loss: 0.9293 - acc: 0.4996 - val_loss: 0.8073 - val_acc: 0.4988\n",
      "Epoch 40/60\n",
      "7352/7352 [==============================] - 34s 5ms/step - loss: 0.9119 - acc: 0.5079 - val_loss: 0.8381 - val_acc: 0.4958\n",
      "Epoch 41/60\n",
      "7352/7352 [==============================] - 34s 5ms/step - loss: 0.9164 - acc: 0.4917 - val_loss: 0.7963 - val_acc: 0.4992\n",
      "Epoch 42/60\n",
      "7352/7352 [==============================] - 34s 5ms/step - loss: 0.9167 - acc: 0.5042 - val_loss: 0.7929 - val_acc: 0.4992\n",
      "Epoch 43/60\n",
      "7352/7352 [==============================] - 34s 5ms/step - loss: 0.9237 - acc: 0.5078 - val_loss: 0.8163 - val_acc: 0.4975\n",
      "Epoch 44/60\n",
      "7352/7352 [==============================] - 34s 5ms/step - loss: 0.9459 - acc: 0.4888 - val_loss: 0.8050 - val_acc: 0.4992\n",
      "Epoch 45/60\n",
      "7352/7352 [==============================] - 34s 5ms/step - loss: 0.9375 - acc: 0.4955 - val_loss: 0.7368 - val_acc: 0.5083\n",
      "Epoch 46/60\n",
      "7352/7352 [==============================] - 34s 5ms/step - loss: 0.9159 - acc: 0.5008 - val_loss: 0.7584 - val_acc: 0.5005\n",
      "Epoch 47/60\n",
      "7352/7352 [==============================] - 34s 5ms/step - loss: 0.9071 - acc: 0.5014 - val_loss: 0.7601 - val_acc: 0.5036\n",
      "Epoch 48/60\n",
      "7352/7352 [==============================] - 34s 5ms/step - loss: 0.8987 - acc: 0.4990 - val_loss: 0.7713 - val_acc: 0.5015\n",
      "Epoch 49/60\n",
      "7352/7352 [==============================] - 34s 5ms/step - loss: 0.9077 - acc: 0.5073 - val_loss: 0.7403 - val_acc: 0.5073\n",
      "Epoch 50/60\n",
      "7352/7352 [==============================] - 34s 5ms/step - loss: 0.9248 - acc: 0.4999 - val_loss: 0.7900 - val_acc: 0.5093\n",
      "Epoch 51/60\n",
      "7352/7352 [==============================] - 34s 5ms/step - loss: 0.8993 - acc: 0.5010 - val_loss: 0.7337 - val_acc: 0.5080\n",
      "Epoch 52/60\n",
      "7352/7352 [==============================] - 33s 5ms/step - loss: 0.9510 - acc: 0.5054 - val_loss: 0.8358 - val_acc: 0.4954\n",
      "Epoch 53/60\n",
      "7352/7352 [==============================] - 33s 5ms/step - loss: 0.8913 - acc: 0.5072 - val_loss: 0.7488 - val_acc: 0.5015\n",
      "Epoch 54/60\n",
      "7352/7352 [==============================] - 34s 5ms/step - loss: 0.8971 - acc: 0.5056 - val_loss: 0.7612 - val_acc: 0.5012\n",
      "Epoch 55/60\n",
      "7352/7352 [==============================] - 33s 5ms/step - loss: 0.8911 - acc: 0.5075 - val_loss: 0.7592 - val_acc: 0.4995\n",
      "Epoch 56/60\n",
      "7352/7352 [==============================] - 34s 5ms/step - loss: 0.8952 - acc: 0.5056 - val_loss: 0.7974 - val_acc: 0.4958\n",
      "Epoch 57/60\n",
      "7352/7352 [==============================] - 34s 5ms/step - loss: 0.9154 - acc: 0.5060 - val_loss: 0.7537 - val_acc: 0.5005\n",
      "Epoch 58/60\n",
      "7352/7352 [==============================] - 34s 5ms/step - loss: 0.8888 - acc: 0.5078 - val_loss: 0.7299 - val_acc: 0.5070\n",
      "Epoch 59/60\n",
      "7352/7352 [==============================] - 34s 5ms/step - loss: 0.9190 - acc: 0.5022 - val_loss: 0.8089 - val_acc: 0.5073\n",
      "Epoch 60/60\n",
      "7352/7352 [==============================] - 34s 5ms/step - loss: 0.9123 - acc: 0.4989 - val_loss: 0.7264 - val_acc: 0.4992\n"
     ]
    }
   ],
   "source": [
    "scores = model.fit(X_train,\n",
    "          Y_train,\n",
    "          batch_size=batch_size,\n",
    "          validation_data=(X_test, Y_test),\n",
    "          epochs=epochs)"
   ]
  },
  {
   "cell_type": "code",
   "execution_count": 48,
   "metadata": {
    "colab": {
     "base_uri": "https://localhost:8080/",
     "height": 315
    },
    "colab_type": "code",
    "id": "GNvrjVEcsIsI",
    "outputId": "69c353ce-2e9b-4ab6-f52a-8d978ed780ee"
   },
   "outputs": [
    {
     "name": "stdout",
     "output_type": "stream",
     "text": [
      "Test score: 0.7264316521299302\n",
      "Test accuracy: 0.49915167968435775\n"
     ]
    },
    {
     "data": {
      "image/png": "[encoded data removed]",
      "text/plain": [
       "<Figure size 432x288 with 1 Axes>"
      ]
     },
     "metadata": {
      "tags": []
     },
     "output_type": "display_data"
    }
   ],
   "source": [
    "score = model.evaluate(X_test, Y_test, verbose=0)\n",
    "print('Test score:', score[0])\n",
    "print('Test accuracy:', score[1])\n",
    "x = list(range(1,61))\n",
    "fig,ax = plt.subplots(1,1)\n",
    "ax.set_xlabel('epoch') ; ax.set_ylabel('catagorical_crossentropy Loss')\n",
    "vy = scores.history['val_loss']\n",
    "ty = scores.history['loss']\n",
    "plt_dynamic(x, vy, ty, ax)"
   ]
  },
  {
   "cell_type": "markdown",
   "metadata": {},
   "source": [
    "- By observing above plot this model is not overfitting but had seen very less accuracy"
   ]
  },
  {
   "cell_type": "code",
   "execution_count": 0,
   "metadata": {
    "colab": {},
    "colab_type": "code",
    "id": "aeHh1gKZsRIc"
   },
   "outputs": [],
   "source": [
    "epochs = 30\n",
    "batch_size = 16\n",
    "n_hidden = 32"
   ]
  },
  {
   "cell_type": "code",
   "execution_count": 72,
   "metadata": {
    "colab": {
     "base_uri": "https://localhost:8080/",
     "height": 300
    },
    "colab_type": "code",
    "id": "OCgE8FU0sZj0",
    "outputId": "d13a6856-ba00-4ae1-aaf7-f0ae81b0c792"
   },
   "outputs": [
    {
     "name": "stdout",
     "output_type": "stream",
     "text": [
      "_________________________________________________________________\n",
      "Layer (type)                 Output Shape              Param #   \n",
      "=================================================================\n",
      "lstm_21 (LSTM)               (None, 128, 32)           5376      \n",
      "_________________________________________________________________\n",
      "dropout_18 (Dropout)         (None, 128, 32)           0         \n",
      "_________________________________________________________________\n",
      "lstm_22 (LSTM)               (None, 32)                8320      \n",
      "_________________________________________________________________\n",
      "dropout_19 (Dropout)         (None, 32)                0         \n",
      "_________________________________________________________________\n",
      "dense_11 (Dense)             (None, 6)                 198       \n",
      "=================================================================\n",
      "Total params: 13,894\n",
      "Trainable params: 13,894\n",
      "Non-trainable params: 0\n",
      "_________________________________________________________________\n"
     ]
    }
   ],
   "source": [
    "model = Sequential()\n",
    "# Configuring the parameters\n",
    "model.add(LSTM(n_hidden,return_sequences=True, input_shape=(timesteps, input_dim)))\n",
    "# Adding a dropout layer\n",
    "model.add(Dropout(2))\n",
    "#model.add(Dense(n_classes, activation='sigmoid'))\n",
    "model.add(LSTM(n_hidden))\n",
    "\n",
    "model.add(Dropout(2))\n",
    "# Adding a dense output layer with sigmoid activation\n",
    "model.add(Dense(n_classes, activation='sigmoid'))\n",
    "model.summary()"
   ]
  },
  {
   "cell_type": "code",
   "execution_count": 0,
   "metadata": {
    "colab": {},
    "colab_type": "code",
    "id": "bKWhDS_zsdw9"
   },
   "outputs": [],
   "source": [
    "model.compile(loss='categorical_crossentropy',\n",
    "              optimizer='rmsprop',\n",
    "              metrics=['accuracy'])"
   ]
  },
  {
   "cell_type": "code",
   "execution_count": 74,
   "metadata": {
    "colab": {
     "base_uri": "https://localhost:8080/",
     "height": 1033
    },
    "colab_type": "code",
    "id": "uTwL1iU3sg-R",
    "outputId": "a83fe37b-c616-4cb4-fc6b-e6723649a43f"
   },
   "outputs": [
    {
     "name": "stdout",
     "output_type": "stream",
     "text": [
      "Train on 7352 samples, validate on 2947 samples\n",
      "Epoch 1/30\n",
      "7352/7352 [==============================] - 216s 29ms/step - loss: 1.0363 - acc: 0.5443 - val_loss: 0.8359 - val_acc: 0.6447\n",
      "Epoch 2/30\n",
      "7352/7352 [==============================] - 214s 29ms/step - loss: 0.7027 - acc: 0.6591 - val_loss: 0.7232 - val_acc: 0.6973\n",
      "Epoch 3/30\n",
      "7352/7352 [==============================] - 218s 30ms/step - loss: 0.6102 - acc: 0.7206 - val_loss: 0.6119 - val_acc: 0.7027\n",
      "Epoch 4/30\n",
      "7352/7352 [==============================] - 214s 29ms/step - loss: 0.4963 - acc: 0.7626 - val_loss: 0.5024 - val_acc: 0.7679\n",
      "Epoch 5/30\n",
      "7352/7352 [==============================] - 213s 29ms/step - loss: 0.3396 - acc: 0.8897 - val_loss: 0.3697 - val_acc: 0.8690\n",
      "Epoch 6/30\n",
      "7352/7352 [==============================] - 214s 29ms/step - loss: 0.2400 - acc: 0.9229 - val_loss: 0.4196 - val_acc: 0.8751\n",
      "Epoch 7/30\n",
      "7352/7352 [==============================] - 214s 29ms/step - loss: 0.1932 - acc: 0.9343 - val_loss: 0.2455 - val_acc: 0.9158\n",
      "Epoch 8/30\n",
      "7352/7352 [==============================] - 219s 30ms/step - loss: 0.1675 - acc: 0.9407 - val_loss: 0.3814 - val_acc: 0.8731\n",
      "Epoch 9/30\n",
      "7352/7352 [==============================] - 216s 29ms/step - loss: 0.1642 - acc: 0.9404 - val_loss: 0.3306 - val_acc: 0.8985\n",
      "Epoch 10/30\n",
      "7352/7352 [==============================] - 214s 29ms/step - loss: 0.1591 - acc: 0.9410 - val_loss: 0.2576 - val_acc: 0.8965\n",
      "Epoch 11/30\n",
      "7352/7352 [==============================] - 214s 29ms/step - loss: 0.1495 - acc: 0.9442 - val_loss: 0.4860 - val_acc: 0.8592\n",
      "Epoch 12/30\n",
      "7352/7352 [==============================] - 214s 29ms/step - loss: 0.1520 - acc: 0.9456 - val_loss: 0.3295 - val_acc: 0.8989\n",
      "Epoch 13/30\n",
      "7352/7352 [==============================] - 212s 29ms/step - loss: 0.1434 - acc: 0.9457 - val_loss: 0.3141 - val_acc: 0.9023\n",
      "Epoch 14/30\n",
      "7352/7352 [==============================] - 213s 29ms/step - loss: 0.1300 - acc: 0.9491 - val_loss: 0.3858 - val_acc: 0.8914\n",
      "Epoch 15/30\n",
      "7352/7352 [==============================] - 214s 29ms/step - loss: 0.1282 - acc: 0.9521 - val_loss: 0.3109 - val_acc: 0.9091\n",
      "Epoch 16/30\n",
      "7352/7352 [==============================] - 214s 29ms/step - loss: 0.1300 - acc: 0.9513 - val_loss: 0.3192 - val_acc: 0.8999\n",
      "Epoch 17/30\n",
      "7352/7352 [==============================] - 214s 29ms/step - loss: 0.1207 - acc: 0.9494 - val_loss: 0.3562 - val_acc: 0.9080\n",
      "Epoch 18/30\n",
      "7352/7352 [==============================] - 216s 29ms/step - loss: 0.1214 - acc: 0.9512 - val_loss: 0.3413 - val_acc: 0.9033\n",
      "Epoch 19/30\n",
      "7352/7352 [==============================] - 216s 29ms/step - loss: 0.1298 - acc: 0.9494 - val_loss: 0.3217 - val_acc: 0.9046\n",
      "Epoch 20/30\n",
      "7352/7352 [==============================] - 215s 29ms/step - loss: 0.1213 - acc: 0.9517 - val_loss: 0.3487 - val_acc: 0.9060\n",
      "Epoch 21/30\n",
      "7352/7352 [==============================] - 213s 29ms/step - loss: 0.1281 - acc: 0.9518 - val_loss: 0.3428 - val_acc: 0.9101\n",
      "Epoch 22/30\n",
      "7352/7352 [==============================] - 214s 29ms/step - loss: 0.1229 - acc: 0.9529 - val_loss: 0.3448 - val_acc: 0.9046\n",
      "Epoch 23/30\n",
      "7352/7352 [==============================] - 215s 29ms/step - loss: 0.1195 - acc: 0.9551 - val_loss: 0.2959 - val_acc: 0.9087\n",
      "Epoch 24/30\n",
      "7352/7352 [==============================] - 216s 29ms/step - loss: 0.1177 - acc: 0.9551 - val_loss: 0.3124 - val_acc: 0.9135\n",
      "Epoch 25/30\n",
      "7352/7352 [==============================] - 215s 29ms/step - loss: 0.1177 - acc: 0.9528 - val_loss: 0.3380 - val_acc: 0.9026\n",
      "Epoch 26/30\n",
      "7352/7352 [==============================] - 215s 29ms/step - loss: 0.1188 - acc: 0.9555 - val_loss: 0.4332 - val_acc: 0.8870\n",
      "Epoch 27/30\n",
      "7352/7352 [==============================] - 215s 29ms/step - loss: 0.1268 - acc: 0.9535 - val_loss: 0.4276 - val_acc: 0.8972\n",
      "Epoch 28/30\n",
      "7352/7352 [==============================] - 215s 29ms/step - loss: 0.1280 - acc: 0.9518 - val_loss: 0.3028 - val_acc: 0.9135\n",
      "Epoch 29/30\n",
      "7352/7352 [==============================] - 214s 29ms/step - loss: 0.1236 - acc: 0.9540 - val_loss: 0.3738 - val_acc: 0.9063\n",
      "Epoch 30/30\n",
      "7352/7352 [==============================] - 215s 29ms/step - loss: 0.1124 - acc: 0.9581 - val_loss: 0.4348 - val_acc: 0.8962\n"
     ]
    }
   ],
   "source": [
    "scores = model.fit(X_train,\n",
    "          Y_train,\n",
    "          batch_size=batch_size,\n",
    "          validation_data=(X_test, Y_test),\n",
    "          epochs=epochs)"
   ]
  },
  {
   "cell_type": "code",
   "execution_count": 75,
   "metadata": {
    "colab": {
     "base_uri": "https://localhost:8080/",
     "height": 315
    },
    "colab_type": "code",
    "id": "Cfr3XiCOGift",
    "outputId": "e5f5b4e4-1edc-42ac-9d53-7ec91b430df3"
   },
   "outputs": [
    {
     "name": "stdout",
     "output_type": "stream",
     "text": [
      "Test score: 0.4347589199567052\n",
      "Test accuracy: 0.8961655921275874\n"
     ]
    },
    {
     "data": {
      "image/png": "[encoded data removed]",
      "text/plain": [
       "<Figure size 432x288 with 1 Axes>"
      ]
     },
     "metadata": {
      "tags": []
     },
     "output_type": "display_data"
    }
   ],
   "source": [
    "score = model.evaluate(X_test, Y_test, verbose=0)\n",
    "print('Test score:', score[0])\n",
    "print('Test accuracy:', score[1])\n",
    "x = list(range(1,31))\n",
    "fig,ax = plt.subplots(1,1)\n",
    "ax.set_xlabel('epoch') ; ax.set_ylabel('catagorical_crossentropy Loss')\n",
    "vy = scores.history['val_loss']\n",
    "ty = scores.history['loss']\n",
    "plt_dynamic(x, vy, ty, ax)"
   ]
  },
  {
   "cell_type": "markdown",
   "metadata": {},
   "source": [
    "- By observaing above plot we can clearly see that this model is overfotting."
   ]
  },
  {
   "cell_type": "code",
   "execution_count": 76,
   "metadata": {
    "colab": {
     "base_uri": "https://localhost:8080/",
     "height": 300
    },
    "colab_type": "code",
    "id": "mlfnYczTGzLG",
    "outputId": "72581a5b-cea3-4f65-edf2-f70eff917756"
   },
   "outputs": [
    {
     "name": "stdout",
     "output_type": "stream",
     "text": [
      "Pred                LAYING  SITTING  STANDING  WALKING  WALKING_DOWNSTAIRS  \\\n",
      "True                                                                         \n",
      "LAYING                 510        0        27        0                   0   \n",
      "SITTING                  1      398        92        0                   0   \n",
      "STANDING                 0      104       428        0                   0   \n",
      "WALKING                  0        0         9      477                   6   \n",
      "WALKING_DOWNSTAIRS       0        0         0        1                 404   \n",
      "WALKING_UPSTAIRS         0        5         1       41                   0   \n",
      "\n",
      "Pred                WALKING_UPSTAIRS  \n",
      "True                                  \n",
      "LAYING                             0  \n",
      "SITTING                            0  \n",
      "STANDING                           0  \n",
      "WALKING                            4  \n",
      "WALKING_DOWNSTAIRS                15  \n",
      "WALKING_UPSTAIRS                 424  \n"
     ]
    }
   ],
   "source": [
    "print(confusion_matrix(Y_test, model.predict(X_test)))"
   ]
  },
  {
   "cell_type": "code",
   "execution_count": 77,
   "metadata": {
    "colab": {
     "base_uri": "https://localhost:8080/",
     "height": 33
    },
    "colab_type": "code",
    "id": "PPv54frFG0j6",
    "outputId": "057c447f-c029-4920-fc98-ffd0f8ec893c"
   },
   "outputs": [
    {
     "name": "stdout",
     "output_type": "stream",
     "text": [
      "2947/2947 [==============================] - 16s 5ms/step\n"
     ]
    }
   ],
   "source": [
    "score = model.evaluate(X_test, Y_test)"
   ]
  },
  {
   "cell_type": "code",
   "execution_count": 78,
   "metadata": {
    "colab": {
     "base_uri": "https://localhost:8080/",
     "height": 33
    },
    "colab_type": "code",
    "id": "Zn84D9WaG8Qc",
    "outputId": "e4698878-df08-41c2-b951-38b1cddbb6b8"
   },
   "outputs": [
    {
     "data": {
      "text/plain": [
       "[0.4347589199567052, 0.8961655921275874]"
      ]
     },
     "execution_count": 78,
     "metadata": {
      "tags": []
     },
     "output_type": "execute_result"
    }
   ],
   "source": [
    "score"
   ]
  },
  {
   "cell_type": "code",
   "execution_count": 0,
   "metadata": {
    "colab": {},
    "colab_type": "code",
    "id": "wGlsRiEyAKFe"
   },
   "outputs": [],
   "source": [
    "epochs = 30\n",
    "batch_size = 20\n",
    "n_hidden = 30"
   ]
  },
  {
   "cell_type": "code",
   "execution_count": 83,
   "metadata": {
    "colab": {
     "base_uri": "https://localhost:8080/",
     "height": 300
    },
    "colab_type": "code",
    "id": "T_AVaqR0AKbg",
    "outputId": "7ca0b6f9-c8ba-460f-d2af-2e842f68fad9"
   },
   "outputs": [
    {
     "name": "stdout",
     "output_type": "stream",
     "text": [
      "_________________________________________________________________\n",
      "Layer (type)                 Output Shape              Param #   \n",
      "=================================================================\n",
      "lstm_27 (LSTM)               (None, 128, 30)           4800      \n",
      "_________________________________________________________________\n",
      "dropout_24 (Dropout)         (None, 128, 30)           0         \n",
      "_________________________________________________________________\n",
      "lstm_28 (LSTM)               (None, 30)                7320      \n",
      "_________________________________________________________________\n",
      "dropout_25 (Dropout)         (None, 30)                0         \n",
      "_________________________________________________________________\n",
      "dense_14 (Dense)             (None, 6)                 186       \n",
      "=================================================================\n",
      "Total params: 12,306\n",
      "Trainable params: 12,306\n",
      "Non-trainable params: 0\n",
      "_________________________________________________________________\n"
     ]
    }
   ],
   "source": [
    "model = Sequential()\n",
    "# Configuring the parameters\n",
    "model.add(LSTM(n_hidden,return_sequences=True, input_shape=(timesteps, input_dim)))\n",
    "# Adding a dropout layer\n",
    "model.add(Dropout(rate = 0.5))\n",
    "#model.add(Dense(n_classes, activation='sigmoid'))\n",
    "model.add(LSTM(n_hidden))\n",
    "\n",
    "model.add(Dropout(rate = 1))\n",
    "# Adding a dense output layer with sigmoid activation\n",
    "model.add(Dense(n_classes, activation='sigmoid'))\n",
    "model.summary()"
   ]
  },
  {
   "cell_type": "code",
   "execution_count": 0,
   "metadata": {
    "colab": {},
    "colab_type": "code",
    "id": "0FLAtXLfAKt3"
   },
   "outputs": [],
   "source": [
    "model.compile(loss='categorical_crossentropy',\n",
    "              optimizer='rmsprop',\n",
    "              metrics=['accuracy'])"
   ]
  },
  {
   "cell_type": "code",
   "execution_count": 86,
   "metadata": {
    "colab": {
     "base_uri": "https://localhost:8080/",
     "height": 1033
    },
    "colab_type": "code",
    "id": "tuTw53DXAK3H",
    "outputId": "a8608b18-4d1c-45e7-a164-c160c17c976d"
   },
   "outputs": [
    {
     "name": "stdout",
     "output_type": "stream",
     "text": [
      "Train on 7352 samples, validate on 2947 samples\n",
      "Epoch 1/30\n",
      "7352/7352 [==============================] - 177s 24ms/step - loss: 1.1941 - acc: 0.4981 - val_loss: 1.0242 - val_acc: 0.5517\n",
      "Epoch 2/30\n",
      "7352/7352 [==============================] - 173s 24ms/step - loss: 0.8062 - acc: 0.6167 - val_loss: 0.8645 - val_acc: 0.6040\n",
      "Epoch 3/30\n",
      "7352/7352 [==============================] - 173s 24ms/step - loss: 0.6914 - acc: 0.6678 - val_loss: 0.7260 - val_acc: 0.6709\n",
      "Epoch 4/30\n",
      "7352/7352 [==============================] - 173s 24ms/step - loss: 0.6386 - acc: 0.7054 - val_loss: 0.7143 - val_acc: 0.6837\n",
      "Epoch 5/30\n",
      "7352/7352 [==============================] - 174s 24ms/step - loss: 0.5533 - acc: 0.7539 - val_loss: 0.6090 - val_acc: 0.7428\n",
      "Epoch 6/30\n",
      "7352/7352 [==============================] - 173s 24ms/step - loss: 0.4984 - acc: 0.7700 - val_loss: 0.6686 - val_acc: 0.7173\n",
      "Epoch 7/30\n",
      "7352/7352 [==============================] - 172s 23ms/step - loss: 0.4407 - acc: 0.8157 - val_loss: 0.5480 - val_acc: 0.7964\n",
      "Epoch 8/30\n",
      "7352/7352 [==============================] - 174s 24ms/step - loss: 0.3293 - acc: 0.8823 - val_loss: 0.5723 - val_acc: 0.7862\n",
      "Epoch 9/30\n",
      "7352/7352 [==============================] - 173s 24ms/step - loss: 0.2465 - acc: 0.9158 - val_loss: 0.4513 - val_acc: 0.8463\n",
      "Epoch 10/30\n",
      "7352/7352 [==============================] - 173s 24ms/step - loss: 0.1998 - acc: 0.9301 - val_loss: 0.4772 - val_acc: 0.8537\n",
      "Epoch 11/30\n",
      "7352/7352 [==============================] - 173s 24ms/step - loss: 0.1864 - acc: 0.9355 - val_loss: 0.5328 - val_acc: 0.8568\n",
      "Epoch 12/30\n",
      "7352/7352 [==============================] - 173s 24ms/step - loss: 0.1616 - acc: 0.9410 - val_loss: 0.4544 - val_acc: 0.8717\n",
      "Epoch 13/30\n",
      "7352/7352 [==============================] - 173s 24ms/step - loss: 0.1543 - acc: 0.9404 - val_loss: 0.4166 - val_acc: 0.8778\n",
      "Epoch 14/30\n",
      "7352/7352 [==============================] - 172s 23ms/step - loss: 0.1424 - acc: 0.9460 - val_loss: 0.5155 - val_acc: 0.8714\n",
      "Epoch 15/30\n",
      "7352/7352 [==============================] - 173s 24ms/step - loss: 0.1422 - acc: 0.9449 - val_loss: 0.3885 - val_acc: 0.8880\n",
      "Epoch 16/30\n",
      "7352/7352 [==============================] - 173s 23ms/step - loss: 0.1376 - acc: 0.9486 - val_loss: 0.3497 - val_acc: 0.9002\n",
      "Epoch 17/30\n",
      "7352/7352 [==============================] - 174s 24ms/step - loss: 0.1328 - acc: 0.9475 - val_loss: 0.3624 - val_acc: 0.8935\n",
      "Epoch 18/30\n",
      "7352/7352 [==============================] - 173s 24ms/step - loss: 0.1306 - acc: 0.9483 - val_loss: 0.3209 - val_acc: 0.8965\n",
      "Epoch 19/30\n",
      "7352/7352 [==============================] - 174s 24ms/step - loss: 0.1244 - acc: 0.9506 - val_loss: 0.3600 - val_acc: 0.8911\n",
      "Epoch 20/30\n",
      "7352/7352 [==============================] - 173s 24ms/step - loss: 0.1250 - acc: 0.9524 - val_loss: 0.3860 - val_acc: 0.8938\n",
      "Epoch 21/30\n",
      "7352/7352 [==============================] - 174s 24ms/step - loss: 0.1185 - acc: 0.9516 - val_loss: 0.3881 - val_acc: 0.8965\n",
      "Epoch 22/30\n",
      "7352/7352 [==============================] - 173s 24ms/step - loss: 0.1236 - acc: 0.9518 - val_loss: 0.5195 - val_acc: 0.8605\n",
      "Epoch 23/30\n",
      "7352/7352 [==============================] - 173s 24ms/step - loss: 0.1221 - acc: 0.9523 - val_loss: 0.3548 - val_acc: 0.9060\n",
      "Epoch 24/30\n",
      "7352/7352 [==============================] - 173s 23ms/step - loss: 0.1265 - acc: 0.9484 - val_loss: 0.4296 - val_acc: 0.8975\n",
      "Epoch 25/30\n",
      "7352/7352 [==============================] - 173s 23ms/step - loss: 0.1235 - acc: 0.9529 - val_loss: 0.4033 - val_acc: 0.8938\n",
      "Epoch 26/30\n",
      "7352/7352 [==============================] - 174s 24ms/step - loss: 0.1153 - acc: 0.9542 - val_loss: 0.3950 - val_acc: 0.9002\n",
      "Epoch 27/30\n",
      "7352/7352 [==============================] - 173s 23ms/step - loss: 0.1106 - acc: 0.9555 - val_loss: 0.3522 - val_acc: 0.9063\n",
      "Epoch 28/30\n",
      "7352/7352 [==============================] - 174s 24ms/step - loss: 0.1320 - acc: 0.9505 - val_loss: 0.3099 - val_acc: 0.9080\n",
      "Epoch 29/30\n",
      "7352/7352 [==============================] - 172s 23ms/step - loss: 0.1165 - acc: 0.9553 - val_loss: 0.3842 - val_acc: 0.8911\n",
      "Epoch 30/30\n",
      "7352/7352 [==============================] - 173s 24ms/step - loss: 0.1198 - acc: 0.9523 - val_loss: 0.3188 - val_acc: 0.8717\n"
     ]
    }
   ],
   "source": [
    "scores = model.fit(X_train,\n",
    "          Y_train,\n",
    "          batch_size=batch_size,\n",
    "          validation_data=(X_test, Y_test),\n",
    "          epochs=epochs)"
   ]
  },
  {
   "cell_type": "code",
   "execution_count": 87,
   "metadata": {
    "colab": {
     "base_uri": "https://localhost:8080/",
     "height": 315
    },
    "colab_type": "code",
    "id": "S3oHpNSsALCa",
    "outputId": "feb790de-64fe-4c91-c576-7b2bb45b546c"
   },
   "outputs": [
    {
     "name": "stdout",
     "output_type": "stream",
     "text": [
      "Test score: 0.31878662802921154\n",
      "Test accuracy: 0.8717339667458432\n"
     ]
    },
    {
     "data": {
      "image/png": "[encoded data removed]",
      "text/plain": [
       "<Figure size 432x288 with 1 Axes>"
      ]
     },
     "metadata": {
      "tags": []
     },
     "output_type": "display_data"
    }
   ],
   "source": [
    "score = model.evaluate(X_test, Y_test, verbose=0)\n",
    "print('Test score:', score[0])\n",
    "print('Test accuracy:', score[1])\n",
    "x = list(range(1,31))\n",
    "fig,ax = plt.subplots(1,1)\n",
    "ax.set_xlabel('epoch') ; ax.set_ylabel('catagorical_crossentropy Loss')\n",
    "vy = scores.history['val_loss']\n",
    "ty = scores.history['loss']\n",
    "plt_dynamic(x, vy, ty, ax)"
   ]
  },
  {
   "cell_type": "markdown",
   "metadata": {},
   "source": [
    "- we can clerarly see that this model is overfitting."
   ]
  },
  {
   "cell_type": "code",
   "execution_count": 0,
   "metadata": {
    "colab": {},
    "colab_type": "code",
    "id": "pU90_k1PWrvA"
   },
   "outputs": [],
   "source": [
    "epochs = 40\n",
    "batch_size = 50\n",
    "n_hidden = 33"
   ]
  },
  {
   "cell_type": "code",
   "execution_count": 93,
   "metadata": {
    "colab": {
     "base_uri": "https://localhost:8080/",
     "height": 300
    },
    "colab_type": "code",
    "id": "eFD1w9cGXIJk",
    "outputId": "576fa6fa-7ce2-4350-c3cb-4bbe2a26bf1a"
   },
   "outputs": [
    {
     "name": "stdout",
     "output_type": "stream",
     "text": [
      "_________________________________________________________________\n",
      "Layer (type)                 Output Shape              Param #   \n",
      "=================================================================\n",
      "lstm_31 (LSTM)               (None, 128, 33)           5676      \n",
      "_________________________________________________________________\n",
      "dropout_28 (Dropout)         (None, 128, 33)           0         \n",
      "_________________________________________________________________\n",
      "lstm_32 (LSTM)               (None, 33)                8844      \n",
      "_________________________________________________________________\n",
      "dropout_29 (Dropout)         (None, 33)                0         \n",
      "_________________________________________________________________\n",
      "dense_16 (Dense)             (None, 6)                 204       \n",
      "=================================================================\n",
      "Total params: 14,724\n",
      "Trainable params: 14,724\n",
      "Non-trainable params: 0\n",
      "_________________________________________________________________\n"
     ]
    }
   ],
   "source": [
    "model = Sequential()\n",
    "# Configuring the parameters\n",
    "model.add(LSTM(n_hidden,return_sequences=True, input_shape=(timesteps, input_dim)))\n",
    "# Adding a dropout layer\n",
    "model.add(Dropout(rate = 0.5))\n",
    "#model.add(Dense(n_classes, activation='sigmoid'))\n",
    "model.add(LSTM(n_hidden))\n",
    "\n",
    "model.add(Dropout(rate = 0.5))\n",
    "# Adding a dense output layer with sigmoid activation\n",
    "model.add(Dense(n_classes, activation='sigmoid'))\n",
    "model.summary()"
   ]
  },
  {
   "cell_type": "code",
   "execution_count": 0,
   "metadata": {
    "colab": {},
    "colab_type": "code",
    "id": "n1G8an4jXIaj"
   },
   "outputs": [],
   "source": [
    "model.compile(loss='categorical_crossentropy',\n",
    "              optimizer='rmsprop',\n",
    "              metrics=['accuracy'])"
   ]
  },
  {
   "cell_type": "code",
   "execution_count": 95,
   "metadata": {
    "colab": {
     "base_uri": "https://localhost:8080/",
     "height": 1366
    },
    "colab_type": "code",
    "id": "bPLPP-TfXISZ",
    "outputId": "73ed59c2-38aa-43ca-f34a-d4b01952cbde"
   },
   "outputs": [
    {
     "name": "stdout",
     "output_type": "stream",
     "text": [
      "Train on 7352 samples, validate on 2947 samples\n",
      "Epoch 1/40\n",
      "7352/7352 [==============================] - 74s 10ms/step - loss: 1.3598 - acc: 0.4207 - val_loss: 1.2746 - val_acc: 0.4024\n",
      "Epoch 2/40\n",
      "7352/7352 [==============================] - 70s 10ms/step - loss: 1.0500 - acc: 0.5590 - val_loss: 1.3598 - val_acc: 0.4136\n",
      "Epoch 3/40\n",
      "7352/7352 [==============================] - 69s 9ms/step - loss: 0.8502 - acc: 0.6186 - val_loss: 0.8039 - val_acc: 0.6043\n",
      "Epoch 4/40\n",
      "7352/7352 [==============================] - 70s 9ms/step - loss: 0.8339 - acc: 0.6145 - val_loss: 0.9337 - val_acc: 0.5182\n",
      "Epoch 5/40\n",
      "7352/7352 [==============================] - 70s 10ms/step - loss: 0.7486 - acc: 0.6342 - val_loss: 0.7737 - val_acc: 0.5881\n",
      "Epoch 6/40\n",
      "7352/7352 [==============================] - 70s 9ms/step - loss: 0.6864 - acc: 0.6620 - val_loss: 0.6909 - val_acc: 0.6162\n",
      "Epoch 7/40\n",
      "7352/7352 [==============================] - 69s 9ms/step - loss: 0.6444 - acc: 0.6835 - val_loss: 0.6851 - val_acc: 0.6155\n",
      "Epoch 8/40\n",
      "7352/7352 [==============================] - 70s 10ms/step - loss: 0.6029 - acc: 0.6982 - val_loss: 0.6457 - val_acc: 0.6899\n",
      "Epoch 9/40\n",
      "7352/7352 [==============================] - 70s 10ms/step - loss: 0.5742 - acc: 0.7212 - val_loss: 1.2852 - val_acc: 0.5803\n",
      "Epoch 10/40\n",
      "7352/7352 [==============================] - 69s 9ms/step - loss: 0.5432 - acc: 0.7408 - val_loss: 0.6697 - val_acc: 0.7272\n",
      "Epoch 11/40\n",
      "7352/7352 [==============================] - 70s 9ms/step - loss: 0.4993 - acc: 0.7727 - val_loss: 0.5724 - val_acc: 0.7608\n",
      "Epoch 12/40\n",
      "7352/7352 [==============================] - 69s 9ms/step - loss: 0.4982 - acc: 0.7768 - val_loss: 0.5120 - val_acc: 0.7648\n",
      "Epoch 13/40\n",
      "7352/7352 [==============================] - 69s 9ms/step - loss: 0.4391 - acc: 0.7946 - val_loss: 0.5124 - val_acc: 0.7655\n",
      "Epoch 14/40\n",
      "7352/7352 [==============================] - 69s 9ms/step - loss: 0.4296 - acc: 0.7952 - val_loss: 0.5476 - val_acc: 0.7547\n",
      "Epoch 15/40\n",
      "7352/7352 [==============================] - 70s 9ms/step - loss: 0.3971 - acc: 0.8026 - val_loss: 0.5258 - val_acc: 0.7553\n",
      "Epoch 16/40\n",
      "7352/7352 [==============================] - 69s 9ms/step - loss: 0.3850 - acc: 0.8026 - val_loss: 0.5204 - val_acc: 0.7475\n",
      "Epoch 17/40\n",
      "7352/7352 [==============================] - 70s 9ms/step - loss: 0.3691 - acc: 0.8139 - val_loss: 0.5130 - val_acc: 0.7587\n",
      "Epoch 18/40\n",
      "7352/7352 [==============================] - 69s 9ms/step - loss: 0.3881 - acc: 0.8168 - val_loss: 0.5600 - val_acc: 0.7516\n",
      "Epoch 19/40\n",
      "7352/7352 [==============================] - 70s 9ms/step - loss: 0.3230 - acc: 0.8390 - val_loss: 0.6999 - val_acc: 0.7486\n",
      "Epoch 20/40\n",
      "7352/7352 [==============================] - 70s 9ms/step - loss: 0.3246 - acc: 0.8500 - val_loss: 0.5534 - val_acc: 0.7523\n",
      "Epoch 21/40\n",
      "7352/7352 [==============================] - 70s 9ms/step - loss: 0.2913 - acc: 0.8636 - val_loss: 0.6638 - val_acc: 0.8405\n",
      "Epoch 22/40\n",
      "7352/7352 [==============================] - 69s 9ms/step - loss: 0.2751 - acc: 0.8840 - val_loss: 0.4296 - val_acc: 0.8931\n",
      "Epoch 23/40\n",
      "7352/7352 [==============================] - 70s 10ms/step - loss: 0.2742 - acc: 0.9063 - val_loss: 0.4563 - val_acc: 0.8951\n",
      "Epoch 24/40\n",
      "7352/7352 [==============================] - 69s 9ms/step - loss: 0.2653 - acc: 0.9227 - val_loss: 0.4205 - val_acc: 0.9033\n",
      "Epoch 25/40\n",
      "7352/7352 [==============================] - 69s 9ms/step - loss: 0.2192 - acc: 0.9369 - val_loss: 0.3464 - val_acc: 0.8931\n",
      "Epoch 26/40\n",
      "7352/7352 [==============================] - 69s 9ms/step - loss: 0.1991 - acc: 0.9378 - val_loss: 0.3813 - val_acc: 0.8985\n",
      "Epoch 27/40\n",
      "7352/7352 [==============================] - 69s 9ms/step - loss: 0.1820 - acc: 0.9408 - val_loss: 0.3988 - val_acc: 0.8979\n",
      "Epoch 28/40\n",
      "7352/7352 [==============================] - 69s 9ms/step - loss: 0.1708 - acc: 0.9455 - val_loss: 0.4866 - val_acc: 0.8921\n",
      "Epoch 29/40\n",
      "7352/7352 [==============================] - 70s 9ms/step - loss: 0.1549 - acc: 0.9456 - val_loss: 0.4196 - val_acc: 0.9070\n",
      "Epoch 30/40\n",
      "7352/7352 [==============================] - 69s 9ms/step - loss: 0.1810 - acc: 0.9402 - val_loss: 0.6241 - val_acc: 0.8649\n",
      "Epoch 31/40\n",
      "7352/7352 [==============================] - 69s 9ms/step - loss: 0.1615 - acc: 0.9468 - val_loss: 0.3899 - val_acc: 0.9101\n",
      "Epoch 32/40\n",
      "7352/7352 [==============================] - 69s 9ms/step - loss: 0.1613 - acc: 0.9455 - val_loss: 0.3758 - val_acc: 0.9111\n",
      "Epoch 33/40\n",
      "7352/7352 [==============================] - 70s 10ms/step - loss: 0.1512 - acc: 0.9480 - val_loss: 0.3904 - val_acc: 0.9125\n",
      "Epoch 34/40\n",
      "7352/7352 [==============================] - 70s 10ms/step - loss: 0.1532 - acc: 0.9460 - val_loss: 0.3488 - val_acc: 0.9026\n",
      "Epoch 35/40\n",
      "7352/7352 [==============================] - 69s 9ms/step - loss: 0.1584 - acc: 0.9463 - val_loss: 0.3418 - val_acc: 0.9094\n",
      "Epoch 36/40\n",
      "7352/7352 [==============================] - 70s 10ms/step - loss: 0.1414 - acc: 0.9482 - val_loss: 0.4224 - val_acc: 0.8999\n",
      "Epoch 37/40\n",
      "7352/7352 [==============================] - 70s 9ms/step - loss: 0.1354 - acc: 0.9494 - val_loss: 0.3278 - val_acc: 0.9175\n",
      "Epoch 38/40\n",
      "7352/7352 [==============================] - 69s 9ms/step - loss: 0.1405 - acc: 0.9475 - val_loss: 0.4769 - val_acc: 0.9067\n",
      "Epoch 39/40\n",
      "7352/7352 [==============================] - 69s 9ms/step - loss: 0.1341 - acc: 0.9495 - val_loss: 0.3850 - val_acc: 0.9135\n",
      "Epoch 40/40\n",
      "7352/7352 [==============================] - 69s 9ms/step - loss: 0.1409 - acc: 0.9494 - val_loss: 0.3519 - val_acc: 0.9148\n"
     ]
    }
   ],
   "source": [
    "scores = model.fit(X_train,\n",
    "          Y_train,\n",
    "          batch_size=batch_size,\n",
    "          validation_data=(X_test, Y_test),\n",
    "          epochs=epochs)"
   ]
  },
  {
   "cell_type": "code",
   "execution_count": 96,
   "metadata": {
    "colab": {
     "base_uri": "https://localhost:8080/",
     "height": 315
    },
    "colab_type": "code",
    "id": "OuTp18cPXZjU",
    "outputId": "aeeff73f-dc57-4459-c7a2-ee59368fb78c"
   },
   "outputs": [
    {
     "name": "stdout",
     "output_type": "stream",
     "text": [
      "Test score: 0.3519003335333593\n",
      "Test accuracy: 0.9148286392941974\n"
     ]
    },
    {
     "data": {
      "image/png": "[encoded data removed]",
      "text/plain": [
       "<Figure size 432x288 with 1 Axes>"
      ]
     },
     "metadata": {
      "tags": []
     },
     "output_type": "display_data"
    }
   ],
   "source": [
    "score = model.evaluate(X_test, Y_test, verbose=0)\n",
    "print('Test score:', score[0])\n",
    "print('Test accuracy:', score[1])\n",
    "x = list(range(1,41))\n",
    "fig,ax = plt.subplots(1,1)\n",
    "ax.set_xlabel('epoch') ; ax.set_ylabel('catagorical_crossentropy Loss')\n",
    "vy = scores.history['val_loss']\n",
    "ty = scores.history['loss']\n",
    "plt_dynamic(x, vy, ty, ax)"
   ]
  },
  {
   "cell_type": "code",
   "execution_count": 97,
   "metadata": {
    "colab": {
     "base_uri": "https://localhost:8080/",
     "height": 300
    },
    "colab_type": "code",
    "id": "T_z9GgRNjLbk",
    "outputId": "89a8c669-46b8-4d2e-9cb1-e72765c607e4"
   },
   "outputs": [
    {
     "name": "stdout",
     "output_type": "stream",
     "text": [
      "Pred                LAYING  SITTING  STANDING  WALKING  WALKING_DOWNSTAIRS  \\\n",
      "True                                                                         \n",
      "LAYING                 510        0        27        0                   0   \n",
      "SITTING                  0      419        69        1                   0   \n",
      "STANDING                 0      110       421        1                   0   \n",
      "WALKING                  0        0         0      472                   7   \n",
      "WALKING_DOWNSTAIRS       0        0         0        0                 411   \n",
      "WALKING_UPSTAIRS         0        0         0        1                   7   \n",
      "\n",
      "Pred                WALKING_UPSTAIRS  \n",
      "True                                  \n",
      "LAYING                             0  \n",
      "SITTING                            2  \n",
      "STANDING                           0  \n",
      "WALKING                           17  \n",
      "WALKING_DOWNSTAIRS                 9  \n",
      "WALKING_UPSTAIRS                 463  \n"
     ]
    }
   ],
   "source": [
    "print(confusion_matrix(Y_test, model.predict(X_test)))"
   ]
  },
  {
   "cell_type": "markdown",
   "metadata": {
    "colab_type": "text",
    "id": "kV8CcEFSCLqY"
   },
   "source": [
    "- by observing above plot With a simple 2 layer LSTM architecture is seen to be not overfitting with 91.48% accuracy."
   ]
  }
 ],
 "metadata": {
  "accelerator": "GPU",
  "colab": {
   "name": "HAR_LSTM (1).ipynb",
   "provenance": [],
   "version": "0.3.2"
  },
  "kernelspec": {
   "display_name": "Python 3",
   "language": "python",
   "name": "python3"
  },
  "language_info": {
   "codemirror_mode": {
    "name": "ipython",
    "version": 3
   },
   "file_extension": ".py",
   "mimetype": "text/x-python",
   "name": "python",
   "nbconvert_exporter": "python",
   "pygments_lexer": "ipython3",
   "version": "3.6.4"
  }
 },
 "nbformat": 4,
 "nbformat_minor": 1
}
